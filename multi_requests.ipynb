{
 "cells": [
  {
   "cell_type": "markdown",
   "metadata": {},
   "source": [
    "## <a id='toc1_1_'></a>[Solcast API](#toc0_)\n",
    "Author : Saddik Imad\n",
    "<br/>\n",
    "Date : 23/03/2024"
   ]
  },
  {
   "cell_type": "markdown",
   "metadata": {},
   "source": [
    "**Table of contents**<a id='toc0_'></a>    \n",
    "- [Loading the API Key](#toc1_2_)    \n",
    "- [Making multiple requests](#toc1_3_)    \n",
    "- [To a dataframe](#toc1_4_)    "
   ]
  },
  {
   "cell_type": "markdown",
   "metadata": {},
   "source": [
    "## <a id='toc1_2_'></a>[Loading the API Key](#toc0_)"
   ]
  },
  {
   "cell_type": "markdown",
   "metadata": {},
   "source": [
    "Make sur to create a .env file and add `SOLCAST_API_KEY=` to it. Make sure to get the API Key from [here](https://toolkit.solcast.com.au/account/api-key)."
   ]
  },
  {
   "cell_type": "code",
   "execution_count": 1,
   "metadata": {},
   "outputs": [],
   "source": [
    "import os\n",
    "from dotenv import load_dotenv\n",
    "\n",
    "\n",
    "# Load the API key from the .env file\n",
    "load_dotenv()\n",
    "key = os.getenv(\"SOLCAST_API_KEY\")"
   ]
  },
  {
   "cell_type": "markdown",
   "metadata": {},
   "source": [
    "## <a id='toc1_3_'></a>[Making multiple requests](#toc0_)"
   ]
  },
  {
   "cell_type": "markdown",
   "metadata": {},
   "source": [
    "Solcast provides a wide range of services (forecast, live data, historic data, historic forecast, etc), make sure to visit the [docs](https://docs.solcast.com.au/) to learn more. Let's show how to get irradiance and weather Historical data by using the API, read about this part in this [section](https://docs.solcast.com.au/#9de907e7-a52f-4993-a0f0-5cffee78ad10) in the docs."
   ]
  },
  {
   "cell_type": "markdown",
   "metadata": {},
   "source": [
    "### Define the parameters for the request\n"
   ]
  },
  {
   "cell_type": "code",
   "execution_count": 9,
   "metadata": {},
   "outputs": [],
   "source": [
    "latitude = -33.856784\n",
    "longitude = 151.215297\n",
    "duration = \"P31D\" # maximum duration is 31 days\n",
    "format_ = \"json\"\n",
    "time_zone = \"utc\"\n",
    "output_parameters = \"albedo,precipitation_rate,surface_pressure\""
   ]
  },
  {
   "cell_type": "markdown",
   "metadata": {},
   "source": [
    "### Pass the API key in the Authorization header"
   ]
  },
  {
   "cell_type": "code",
   "execution_count": 4,
   "metadata": {},
   "outputs": [],
   "source": [
    "headers = {\n",
    "    \"Authorization\": f\"Bearer {key}\"\n",
    "}"
   ]
  },
  {
   "cell_type": "markdown",
   "metadata": {},
   "source": [
    "### Getting the list of dates"
   ]
  },
  {
   "cell_type": "code",
   "execution_count": 8,
   "metadata": {},
   "outputs": [
    {
     "data": {
      "text/plain": [
       "Index(['2021-01-01', '2021-02-01', '2021-03-01', '2021-04-01', '2021-05-01',\n",
       "       '2021-06-01', '2021-07-01', '2021-08-01', '2021-09-01', '2021-10-01',\n",
       "       '2021-11-01', '2021-12-01', '2022-01-01'],\n",
       "      dtype='object')"
      ]
     },
     "execution_count": 8,
     "metadata": {},
     "output_type": "execute_result"
    }
   ],
   "source": [
    "import pandas as pd\n",
    "\n",
    "\n",
    "start_date = \"2021-01-01\"\n",
    "end_date = \"2022-01-01\"\n",
    "\n",
    "monthly_dates = pd.date_range(start=start_date, end=end_date, freq=\"MS\")\n",
    "monthly_dates = monthly_dates.strftime(\"%Y-%m-%d\")\n",
    "monthly_dates"
   ]
  },
  {
   "cell_type": "markdown",
   "metadata": {},
   "source": [
    "### Putting everything together"
   ]
  },
  {
   "cell_type": "code",
   "execution_count": 10,
   "metadata": {},
   "outputs": [],
   "source": [
    "import requests\n",
    "\n",
    "\n",
    "responses = []\n",
    "\n",
    "for date in monthly_dates:\n",
    "    start = f\"{date}T00:00:00.000Z\"\n",
    "    url = f\"https://api.solcast.com.au/data/historic/radiation_and_weather?latitude={latitude}&longitude={longitude}&start={start}&duration={duration}&format={format_}&time_zone={time_zone}&output_parameters={output_parameters}\"\n",
    "\n",
    "    response = requests.get(url, headers=headers)\n",
    "    responses.append(response)"
   ]
  },
  {
   "cell_type": "markdown",
   "metadata": {},
   "source": [
    "## <a id='toc1_4_'></a>[To a dataframe](#toc0_)"
   ]
  },
  {
   "cell_type": "markdown",
   "metadata": {},
   "source": [
    "Let's take the response and convert it to a dataframe."
   ]
  },
  {
   "cell_type": "code",
   "execution_count": 13,
   "metadata": {},
   "outputs": [
    {
     "data": {
      "text/html": [
       "<div>\n",
       "<style scoped>\n",
       "    .dataframe tbody tr th:only-of-type {\n",
       "        vertical-align: middle;\n",
       "    }\n",
       "\n",
       "    .dataframe tbody tr th {\n",
       "        vertical-align: top;\n",
       "    }\n",
       "\n",
       "    .dataframe thead th {\n",
       "        text-align: right;\n",
       "    }\n",
       "</style>\n",
       "<table border=\"1\" class=\"dataframe\">\n",
       "  <thead>\n",
       "    <tr style=\"text-align: right;\">\n",
       "      <th></th>\n",
       "      <th>albedo</th>\n",
       "      <th>precipitation_rate</th>\n",
       "      <th>surface_pressure</th>\n",
       "      <th>period_end</th>\n",
       "      <th>period</th>\n",
       "    </tr>\n",
       "  </thead>\n",
       "  <tbody>\n",
       "    <tr>\n",
       "      <th>0</th>\n",
       "      <td>0.08</td>\n",
       "      <td>0.1</td>\n",
       "      <td>1029.4</td>\n",
       "      <td>2021-01-01T00:30:00.0000000Z</td>\n",
       "      <td>PT30M</td>\n",
       "    </tr>\n",
       "    <tr>\n",
       "      <th>1</th>\n",
       "      <td>0.08</td>\n",
       "      <td>0.1</td>\n",
       "      <td>1029.3</td>\n",
       "      <td>2021-01-01T01:00:00.0000000Z</td>\n",
       "      <td>PT30M</td>\n",
       "    </tr>\n",
       "    <tr>\n",
       "      <th>2</th>\n",
       "      <td>0.08</td>\n",
       "      <td>0.1</td>\n",
       "      <td>1029.1</td>\n",
       "      <td>2021-01-01T01:30:00.0000000Z</td>\n",
       "      <td>PT30M</td>\n",
       "    </tr>\n",
       "    <tr>\n",
       "      <th>3</th>\n",
       "      <td>0.08</td>\n",
       "      <td>0.1</td>\n",
       "      <td>1029.0</td>\n",
       "      <td>2021-01-01T02:00:00.0000000Z</td>\n",
       "      <td>PT30M</td>\n",
       "    </tr>\n",
       "    <tr>\n",
       "      <th>4</th>\n",
       "      <td>0.08</td>\n",
       "      <td>0.2</td>\n",
       "      <td>1028.9</td>\n",
       "      <td>2021-01-01T02:30:00.0000000Z</td>\n",
       "      <td>PT30M</td>\n",
       "    </tr>\n",
       "  </tbody>\n",
       "</table>\n",
       "</div>"
      ],
      "text/plain": [
       "   albedo  precipitation_rate  surface_pressure                    period_end  \\\n",
       "0    0.08                 0.1            1029.4  2021-01-01T00:30:00.0000000Z   \n",
       "1    0.08                 0.1            1029.3  2021-01-01T01:00:00.0000000Z   \n",
       "2    0.08                 0.1            1029.1  2021-01-01T01:30:00.0000000Z   \n",
       "3    0.08                 0.1            1029.0  2021-01-01T02:00:00.0000000Z   \n",
       "4    0.08                 0.2            1028.9  2021-01-01T02:30:00.0000000Z   \n",
       "\n",
       "  period  \n",
       "0  PT30M  \n",
       "1  PT30M  \n",
       "2  PT30M  \n",
       "3  PT30M  \n",
       "4  PT30M  "
      ]
     },
     "execution_count": 13,
     "metadata": {},
     "output_type": "execute_result"
    }
   ],
   "source": [
    "import pandas as pd\n",
    "\n",
    "\n",
    "data = pd.DataFrame()\n",
    "\n",
    "for response in responses:\n",
    "    data = pd.concat([data, pd.DataFrame(response.json()['estimated_actuals'])])\n",
    "\n",
    "data = data.reset_index(drop=True)\n",
    "data.head()"
   ]
  },
  {
   "cell_type": "code",
   "execution_count": 14,
   "metadata": {},
   "outputs": [
    {
     "data": {
      "text/plain": [
       "(19344, 5)"
      ]
     },
     "execution_count": 14,
     "metadata": {},
     "output_type": "execute_result"
    }
   ],
   "source": [
    "data.shape"
   ]
  }
 ],
 "metadata": {
  "kernelspec": {
   "display_name": "spyder",
   "language": "python",
   "name": "python3"
  },
  "language_info": {
   "codemirror_mode": {
    "name": "ipython",
    "version": 3
   },
   "file_extension": ".py",
   "mimetype": "text/x-python",
   "name": "python",
   "nbconvert_exporter": "python",
   "pygments_lexer": "ipython3",
   "version": "3.11.8"
  }
 },
 "nbformat": 4,
 "nbformat_minor": 2
}
