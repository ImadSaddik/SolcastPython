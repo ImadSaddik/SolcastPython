{
 "cells": [
  {
   "cell_type": "markdown",
   "metadata": {},
   "source": [
    "## <a id='toc1_1_'></a>[Solcast API](#toc0_)\n",
    "Author : Saddik Imad\n",
    "<br/>\n",
    "Date : 23/03/2024"
   ]
  },
  {
   "cell_type": "markdown",
   "metadata": {},
   "source": [
    "**Table of contents**<a id='toc0_'></a>    \n",
    "- [Loading the API Key](#toc1_2_)    \n",
    "- [Making the request](#toc1_3_)    \n",
    "- [To a dataframe](#toc1_4_)    "
   ]
  },
  {
   "cell_type": "markdown",
   "metadata": {},
   "source": [
    "## <a id='toc1_2_'></a>[Loading the API Key](#toc0_)"
   ]
  },
  {
   "cell_type": "markdown",
   "metadata": {},
   "source": [
    "Make sur to create a .env file and add `SOLCAST_API_KEY=` to it. Make sure to get the API Key from [here](https://toolkit.solcast.com.au/account/api-key)."
   ]
  },
  {
   "cell_type": "code",
   "execution_count": 2,
   "metadata": {},
   "outputs": [],
   "source": [
    "import os\n",
    "from dotenv import load_dotenv\n",
    "\n",
    "\n",
    "# Load the API key from the .env file\n",
    "load_dotenv()\n",
    "key = os.getenv(\"SOLCAST_API_KEY\")"
   ]
  },
  {
   "cell_type": "markdown",
   "metadata": {},
   "source": [
    "## <a id='toc1_3_'></a>[Making the request](#toc0_)"
   ]
  },
  {
   "cell_type": "markdown",
   "metadata": {},
   "source": [
    "Solcast provides a wide range of services (forecast, live data, historic data, historic forecast, etc), make sure to visit the [docs](https://docs.solcast.com.au/) to learn more. Let's show how to get irradiance and weather Historical data by using the API, read about this part in this [section](https://docs.solcast.com.au/#9de907e7-a52f-4993-a0f0-5cffee78ad10) in the docs."
   ]
  },
  {
   "cell_type": "markdown",
   "metadata": {},
   "source": [
    "### Define the parameters for the request\n"
   ]
  },
  {
   "cell_type": "code",
   "execution_count": null,
   "metadata": {},
   "outputs": [],
   "source": [
    "latitude = -33.856784\n",
    "longitude = 151.215297\n",
    "start = \"2021-10-25T14:45:00.000Z\"\n",
    "duration = \"P31D\" # maximum duration is 31 days\n",
    "format_ = \"json\"\n",
    "time_zone = \"utc\"\n",
    "output_parameters = \"albedo,precipitation_rate,surface_pressure\""
   ]
  },
  {
   "cell_type": "markdown",
   "metadata": {},
   "source": [
    "### Pass the API key in the Authorization header"
   ]
  },
  {
   "cell_type": "code",
   "execution_count": null,
   "metadata": {},
   "outputs": [],
   "source": [
    "headers = {\n",
    "    \"Authorization\": f\"Bearer {key}\"\n",
    "}"
   ]
  },
  {
   "cell_type": "markdown",
   "metadata": {},
   "source": [
    "### Making the API call"
   ]
  },
  {
   "cell_type": "code",
   "execution_count": 3,
   "metadata": {},
   "outputs": [],
   "source": [
    "import requests\n",
    "\n",
    "\n",
    "url = f\"https://api.solcast.com.au/data/historic/radiation_and_weather?latitude={latitude}&longitude={longitude}&start={start}&duration={duration}&format={format_}&time_zone={time_zone}&output_parameters={output_parameters}\"\n",
    "response = requests.get(url, headers=headers)"
   ]
  },
  {
   "cell_type": "markdown",
   "metadata": {},
   "source": [
    "## <a id='toc1_4_'></a>[To a dataframe](#toc0_)"
   ]
  },
  {
   "cell_type": "markdown",
   "metadata": {},
   "source": [
    "Let's take the response and convert it to a dataframe."
   ]
  },
  {
   "cell_type": "code",
   "execution_count": 4,
   "metadata": {},
   "outputs": [
    {
     "data": {
      "text/html": [
       "<div>\n",
       "<style scoped>\n",
       "    .dataframe tbody tr th:only-of-type {\n",
       "        vertical-align: middle;\n",
       "    }\n",
       "\n",
       "    .dataframe tbody tr th {\n",
       "        vertical-align: top;\n",
       "    }\n",
       "\n",
       "    .dataframe thead th {\n",
       "        text-align: right;\n",
       "    }\n",
       "</style>\n",
       "<table border=\"1\" class=\"dataframe\">\n",
       "  <thead>\n",
       "    <tr style=\"text-align: right;\">\n",
       "      <th></th>\n",
       "      <th>albedo</th>\n",
       "      <th>precipitation_rate</th>\n",
       "      <th>surface_pressure</th>\n",
       "      <th>period_end</th>\n",
       "      <th>period</th>\n",
       "    </tr>\n",
       "  </thead>\n",
       "  <tbody>\n",
       "    <tr>\n",
       "      <th>0</th>\n",
       "      <td>0.09</td>\n",
       "      <td>0.0</td>\n",
       "      <td>1026.8</td>\n",
       "      <td>2021-10-25T15:00:00.0000000Z</td>\n",
       "      <td>PT30M</td>\n",
       "    </tr>\n",
       "    <tr>\n",
       "      <th>1</th>\n",
       "      <td>0.09</td>\n",
       "      <td>0.0</td>\n",
       "      <td>1026.7</td>\n",
       "      <td>2021-10-25T15:30:00.0000000Z</td>\n",
       "      <td>PT30M</td>\n",
       "    </tr>\n",
       "    <tr>\n",
       "      <th>2</th>\n",
       "      <td>0.09</td>\n",
       "      <td>0.0</td>\n",
       "      <td>1026.7</td>\n",
       "      <td>2021-10-25T16:00:00.0000000Z</td>\n",
       "      <td>PT30M</td>\n",
       "    </tr>\n",
       "    <tr>\n",
       "      <th>3</th>\n",
       "      <td>0.09</td>\n",
       "      <td>0.0</td>\n",
       "      <td>1026.8</td>\n",
       "      <td>2021-10-25T16:30:00.0000000Z</td>\n",
       "      <td>PT30M</td>\n",
       "    </tr>\n",
       "    <tr>\n",
       "      <th>4</th>\n",
       "      <td>0.09</td>\n",
       "      <td>0.0</td>\n",
       "      <td>1026.8</td>\n",
       "      <td>2021-10-25T17:00:00.0000000Z</td>\n",
       "      <td>PT30M</td>\n",
       "    </tr>\n",
       "    <tr>\n",
       "      <th>...</th>\n",
       "      <td>...</td>\n",
       "      <td>...</td>\n",
       "      <td>...</td>\n",
       "      <td>...</td>\n",
       "      <td>...</td>\n",
       "    </tr>\n",
       "    <tr>\n",
       "      <th>1484</th>\n",
       "      <td>0.08</td>\n",
       "      <td>0.0</td>\n",
       "      <td>1015.0</td>\n",
       "      <td>2021-11-25T13:00:00.0000000Z</td>\n",
       "      <td>PT30M</td>\n",
       "    </tr>\n",
       "    <tr>\n",
       "      <th>1485</th>\n",
       "      <td>0.08</td>\n",
       "      <td>0.0</td>\n",
       "      <td>1014.8</td>\n",
       "      <td>2021-11-25T13:30:00.0000000Z</td>\n",
       "      <td>PT30M</td>\n",
       "    </tr>\n",
       "    <tr>\n",
       "      <th>1486</th>\n",
       "      <td>0.08</td>\n",
       "      <td>0.0</td>\n",
       "      <td>1014.7</td>\n",
       "      <td>2021-11-25T14:00:00.0000000Z</td>\n",
       "      <td>PT30M</td>\n",
       "    </tr>\n",
       "    <tr>\n",
       "      <th>1487</th>\n",
       "      <td>0.09</td>\n",
       "      <td>0.0</td>\n",
       "      <td>1014.7</td>\n",
       "      <td>2021-11-25T14:30:00.0000000Z</td>\n",
       "      <td>PT30M</td>\n",
       "    </tr>\n",
       "    <tr>\n",
       "      <th>1488</th>\n",
       "      <td>0.09</td>\n",
       "      <td>0.0</td>\n",
       "      <td>1014.9</td>\n",
       "      <td>2021-11-25T15:00:00.0000000Z</td>\n",
       "      <td>PT30M</td>\n",
       "    </tr>\n",
       "  </tbody>\n",
       "</table>\n",
       "<p>1489 rows × 5 columns</p>\n",
       "</div>"
      ],
      "text/plain": [
       "      albedo  precipitation_rate  surface_pressure  \\\n",
       "0       0.09                 0.0            1026.8   \n",
       "1       0.09                 0.0            1026.7   \n",
       "2       0.09                 0.0            1026.7   \n",
       "3       0.09                 0.0            1026.8   \n",
       "4       0.09                 0.0            1026.8   \n",
       "...      ...                 ...               ...   \n",
       "1484    0.08                 0.0            1015.0   \n",
       "1485    0.08                 0.0            1014.8   \n",
       "1486    0.08                 0.0            1014.7   \n",
       "1487    0.09                 0.0            1014.7   \n",
       "1488    0.09                 0.0            1014.9   \n",
       "\n",
       "                        period_end period  \n",
       "0     2021-10-25T15:00:00.0000000Z  PT30M  \n",
       "1     2021-10-25T15:30:00.0000000Z  PT30M  \n",
       "2     2021-10-25T16:00:00.0000000Z  PT30M  \n",
       "3     2021-10-25T16:30:00.0000000Z  PT30M  \n",
       "4     2021-10-25T17:00:00.0000000Z  PT30M  \n",
       "...                            ...    ...  \n",
       "1484  2021-11-25T13:00:00.0000000Z  PT30M  \n",
       "1485  2021-11-25T13:30:00.0000000Z  PT30M  \n",
       "1486  2021-11-25T14:00:00.0000000Z  PT30M  \n",
       "1487  2021-11-25T14:30:00.0000000Z  PT30M  \n",
       "1488  2021-11-25T15:00:00.0000000Z  PT30M  \n",
       "\n",
       "[1489 rows x 5 columns]"
      ]
     },
     "execution_count": 4,
     "metadata": {},
     "output_type": "execute_result"
    }
   ],
   "source": [
    "import pandas as pd\n",
    "\n",
    "\n",
    "# Extract the data from the response & convert it to a DataFrame\n",
    "data = response.json()['estimated_actuals']\n",
    "pd.DataFrame(data)"
   ]
  }
 ],
 "metadata": {
  "kernelspec": {
   "display_name": "spyder",
   "language": "python",
   "name": "python3"
  },
  "language_info": {
   "codemirror_mode": {
    "name": "ipython",
    "version": 3
   },
   "file_extension": ".py",
   "mimetype": "text/x-python",
   "name": "python",
   "nbconvert_exporter": "python",
   "pygments_lexer": "ipython3",
   "version": "3.11.8"
  }
 },
 "nbformat": 4,
 "nbformat_minor": 2
}
